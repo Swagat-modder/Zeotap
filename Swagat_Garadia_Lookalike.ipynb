{
  "nbformat": 4,
  "nbformat_minor": 0,
  "metadata": {
    "colab": {
      "provenance": [],
      "authorship_tag": "ABX9TyOXSzH+aFdGHXjGAc6Q9aKN",
      "include_colab_link": true
    },
    "kernelspec": {
      "name": "python3",
      "display_name": "Python 3"
    },
    "language_info": {
      "name": "python"
    }
  },
  "cells": [
    {
      "cell_type": "markdown",
      "metadata": {
        "id": "view-in-github",
        "colab_type": "text"
      },
      "source": [
        "<a href=\"https://colab.research.google.com/github/Swagat-modder/Zeotap/blob/main/Swagat_Garadia_Lookalike.ipynb\" target=\"_parent\"><img src=\"https://colab.research.google.com/assets/colab-badge.svg\" alt=\"Open In Colab\"/></a>"
      ]
    },
    {
      "cell_type": "code",
      "execution_count": 1,
      "metadata": {
        "id": "9MubllUaJ8Sz"
      },
      "outputs": [],
      "source": [
        "import pandas as pd\n",
        "import numpy as np\n",
        "from sklearn.preprocessing import StandardScaler\n",
        "from datetime import datetime"
      ]
    },
    {
      "cell_type": "code",
      "source": [
        "# Reading input data\n",
        "customers_df = pd.read_csv('/content/Customers.csv')\n",
        "products_df = pd.read_csv('/content/Products.csv')"
      ],
      "metadata": {
        "id": "QiIFVrN5KcMx"
      },
      "execution_count": 2,
      "outputs": []
    },
    {
      "cell_type": "code",
      "source": [
        "# Generating target customer list (C0001-C0020)\n",
        "target_customers = [f'C{str(i).zfill(4)}' for i in range(1, 21)]"
      ],
      "metadata": {
        "id": "5tUpC1nqKnjH"
      },
      "execution_count": 3,
      "outputs": []
    },
    {
      "cell_type": "code",
      "source": [
        "# Preprocessing customer data\n",
        "# Converting signup date to numeric (days since earliest signup)\n",
        "customers_df['SignupDate'] = pd.to_datetime(customers_df['SignupDate'])\n",
        "min_date = customers_df['SignupDate'].min()\n",
        "customers_df['DaysSinceSignup'] = (customers_df['SignupDate'] - min_date).dt.days"
      ],
      "metadata": {
        "id": "cb1DkHtyKsob"
      },
      "execution_count": 4,
      "outputs": []
    },
    {
      "cell_type": "code",
      "source": [
        "# One-hot encoding region\n",
        "region_dummies = pd.get_dummies(customers_df['Region'], prefix='Region').astype(int)"
      ],
      "metadata": {
        "id": "05mcXko7K22G"
      },
      "execution_count": 8,
      "outputs": []
    },
    {
      "cell_type": "code",
      "source": [
        "# Creating feature matrix\n",
        "features_df = pd.concat([\n",
        "    customers_df[['CustomerID', 'DaysSinceSignup']],\n",
        "    region_dummies], axis=1)"
      ],
      "metadata": {
        "id": "pMoR1SkzK6ks"
      },
      "execution_count": 6,
      "outputs": []
    },
    {
      "cell_type": "code",
      "source": [
        "recommendations = {}\n",
        "# Generating recommendations for each target customer\n",
        "for target_id in target_customers:\n",
        "    # Getting target customer features\n",
        "    target_features = features_df[features_df['CustomerID'] == target_id].iloc[0]\n",
        "\n",
        "    # Initializing list to store distances\n",
        "    distances = []\n",
        "\n",
        "    # Calculating similarity for all other customers\n",
        "    feature_cols = [col for col in features_df.columns if col != 'CustomerID']\n",
        "    for _, row in features_df.iterrows():\n",
        "        if row['CustomerID'] != target_id:\n",
        "            # Ensuring feature values are numerical\n",
        "            target_values = target_features[feature_cols].astype(float)\n",
        "            row_values = row[feature_cols].astype(float)\n",
        "\n",
        "            # Calculating Euclidean distance\n",
        "            dist = np.sqrt(sum((target_values - row_values) ** 2))\n",
        "            # Converting distance to similarity score (inverse of normalized distance)\n",
        "            similarity = 1 / (1 + dist)\n",
        "            distances.append((row['CustomerID'], similarity))\n",
        "\n",
        "    # Sorting by similarity score (descending) and get top 3\n",
        "    distances.sort(key=lambda x: x[1], reverse=True)\n",
        "    recommendations[target_id] = distances[:3]\n"
      ],
      "metadata": {
        "id": "eJH1ShdnLAB8"
      },
      "execution_count": 11,
      "outputs": []
    },
    {
      "cell_type": "code",
      "source": [
        "rows = []\n",
        "for target_id, similar_customers in recommendations.items():\n",
        "    # Formatting similar customers as string: \"cust_id1:score1,cust_id2:score2,cust_id3:score3\"\n",
        "    similar_str = ','.join([f\"{cust}:{score:.4f}\" for cust, score in similar_customers])\n",
        "    rows.append({'CustomerID': target_id, 'Lookalikes': similar_str})"
      ],
      "metadata": {
        "id": "lXYYfQ4wLSte"
      },
      "execution_count": 12,
      "outputs": []
    },
    {
      "cell_type": "code",
      "source": [
        "# Creating and saving recommendations DataFrame\n",
        "recommendations_df = pd.DataFrame(rows)\n",
        "recommendations_df.to_csv('Lookalike.csv', index=False)"
      ],
      "metadata": {
        "id": "FLa4wkKQNI9t"
      },
      "execution_count": 13,
      "outputs": []
    },
    {
      "cell_type": "code",
      "source": [
        "# Printing sample results for verification\n",
        "print(\"Sample recommendations for first 5 customers:\")\n",
        "for i in range(5):\n",
        "    target_id = target_customers[i]\n",
        "    print(f\"\\nTarget Customer: {target_id}\")\n",
        "    for similar_id, score in recommendations[target_id]:\n",
        "        print(f\"Similar Customer: {similar_id}, Similarity Score: {score:.4f}\")"
      ],
      "metadata": {
        "colab": {
          "base_uri": "https://localhost:8080/"
        },
        "id": "y2Gzsa7KNLka",
        "outputId": "6eb4a2c9-7428-45df-9b4d-7c9a475f6b7c"
      },
      "execution_count": 14,
      "outputs": [
        {
          "output_type": "stream",
          "name": "stdout",
          "text": [
            "Sample recommendations for first 5 customers:\n",
            "\n",
            "Target Customer: C0001\n",
            "Similar Customer: C0112, Similarity Score: 0.2500\n",
            "Similar Customer: C0025, Similarity Score: 0.1429\n",
            "Similar Customer: C0071, Similarity Score: 0.1000\n",
            "\n",
            "Target Customer: C0002\n",
            "Similar Customer: C0166, Similarity Score: 0.4142\n",
            "Similar Customer: C0104, Similarity Score: 0.2317\n",
            "Similar Customer: C0134, Similarity Score: 0.1429\n",
            "\n",
            "Target Customer: C0003\n",
            "Similar Customer: C0050, Similarity Score: 0.1614\n",
            "Similar Customer: C0136, Similarity Score: 0.1228\n",
            "Similar Customer: C0081, Similarity Score: 0.0764\n",
            "\n",
            "Target Customer: C0004\n",
            "Similar Customer: C0173, Similarity Score: 0.2317\n",
            "Similar Customer: C0179, Similarity Score: 0.1228\n",
            "Similar Customer: C0108, Similarity Score: 0.0833\n",
            "\n",
            "Target Customer: C0005\n",
            "Similar Customer: C0073, Similarity Score: 0.1614\n",
            "Similar Customer: C0135, Similarity Score: 0.1096\n",
            "Similar Customer: C0159, Similarity Score: 0.1000\n"
          ]
        }
      ]
    },
    {
      "cell_type": "code",
      "source": [],
      "metadata": {
        "id": "j2oFGjSZNOeW"
      },
      "execution_count": null,
      "outputs": []
    }
  ]
}